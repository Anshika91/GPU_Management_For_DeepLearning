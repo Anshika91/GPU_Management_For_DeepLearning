{
  "nbformat": 4,
  "nbformat_minor": 0,
  "metadata": {
    "colab": {
      "provenance": [],
      "authorship_tag": "ABX9TyPA59RYqHcXdCk8Pwu/QZj9",
      "include_colab_link": true
    },
    "kernelspec": {
      "name": "python3",
      "display_name": "Python 3"
    },
    "language_info": {
      "name": "python"
    }
  },
  "cells": [
    {
      "cell_type": "markdown",
      "metadata": {
        "id": "view-in-github",
        "colab_type": "text"
      },
      "source": [
        "<a href=\"https://colab.research.google.com/github/Anshika91/GPU_Management_For_DeepLearning/blob/main/Tensorflow3.ipynb\" target=\"_parent\"><img src=\"https://colab.research.google.com/assets/colab-badge.svg\" alt=\"Open In Colab\"/></a>"
      ]
    },
    {
      "cell_type": "markdown",
      "source": [
        "Ragged Array. and Ragged Tensors\n"
      ],
      "metadata": {
        "id": "IbaMclOPhXSt"
      }
    },
    {
      "cell_type": "code",
      "execution_count": 1,
      "metadata": {
        "id": "aYQ7f_2ZdxL3"
      },
      "outputs": [],
      "source": [
        "import numpy as np"
      ]
    },
    {
      "cell_type": "code",
      "source": [
        "x=np.array([[1,2,3],[4,5,6],[7,8,9],[10,11]])"
      ],
      "metadata": {
        "colab": {
          "base_uri": "https://localhost:8080/"
        },
        "id": "WtblvOaRd57l",
        "outputId": "60c6ef10-2d9d-459f-9197-7f19e9b60ee4"
      },
      "execution_count": 5,
      "outputs": [
        {
          "output_type": "stream",
          "name": "stderr",
          "text": [
            "<ipython-input-5-e9f03e10e52e>:1: VisibleDeprecationWarning: Creating an ndarray from ragged nested sequences (which is a list-or-tuple of lists-or-tuples-or ndarrays with different lengths or shapes) is deprecated. If you meant to do this, you must specify 'dtype=object' when creating the ndarray.\n",
            "  x=np.array([[1,2,3],[4,5,6],[7,8,9],[10,11]])\n"
          ]
        }
      ]
    },
    {
      "cell_type": "code",
      "source": [
        "x"
      ],
      "metadata": {
        "colab": {
          "base_uri": "https://localhost:8080/"
        },
        "id": "lwZErfCOeCrb",
        "outputId": "e0384361-f070-412d-d3ca-ebd419040106"
      },
      "execution_count": 6,
      "outputs": [
        {
          "output_type": "execute_result",
          "data": {
            "text/plain": [
              "array([list([1, 2, 3]), list([4, 5, 6]), list([7, 8, 9]), list([10, 11])],\n",
              "      dtype=object)"
            ]
          },
          "metadata": {},
          "execution_count": 6
        }
      ]
    },
    {
      "cell_type": "code",
      "source": [
        "# Ragged array A special kind of array that represents a list of arrays of differenet siz., it is a tensor with one or more ragged dimensions.\n",
        "import tensorflow as tf\n",
        "tf.constant([1.,2,3],[4.,5,6.,7.]) # Not able \n",
        "r1=tf.ragged.constant([[65,66],[],[67]])"
      ],
      "metadata": {
        "id": "tmz35-B0eJ7R"
      },
      "execution_count": 9,
      "outputs": []
    },
    {
      "cell_type": "code",
      "source": [
        "r2=tf.ragged.constant([[67,97,102,233],[67,111,102,102,101,101],[99,97,102,102,232],[21654,21857]])"
      ],
      "metadata": {
        "id": "PpYBgDTKiVGc"
      },
      "execution_count": 10,
      "outputs": []
    },
    {
      "cell_type": "code",
      "source": [
        "r3=tf.concat([r1,r2],axis=0)"
      ],
      "metadata": {
        "id": "nzVj9yQdjKz3"
      },
      "execution_count": 23,
      "outputs": []
    },
    {
      "cell_type": "code",
      "source": [
        "r3.shape  # r3 shape is tensor shape."
      ],
      "metadata": {
        "colab": {
          "base_uri": "https://localhost:8080/"
        },
        "id": "ftwbO_VDjSdo",
        "outputId": "7ef75033-bd30-459c-ff3a-812a9a54ea84"
      },
      "execution_count": 13,
      "outputs": [
        {
          "output_type": "execute_result",
          "data": {
            "text/plain": [
              "TensorShape([7, None])"
            ]
          },
          "metadata": {},
          "execution_count": 13
        }
      ]
    },
    {
      "cell_type": "code",
      "source": [
        "r4=tf.ragged.constant([[1,2,3],[4]])"
      ],
      "metadata": {
        "id": "IBBjhUwDjVDf"
      },
      "execution_count": 33,
      "outputs": []
    },
    {
      "cell_type": "code",
      "source": [
        "r5=tf.ragged.constant([[5,6],[7,8,3]])"
      ],
      "metadata": {
        "id": "5GfFpB6ZkiFq"
      },
      "execution_count": 34,
      "outputs": []
    },
    {
      "cell_type": "code",
      "source": [
        "tf.concat([r4,r5],axis=0)"
      ],
      "metadata": {
        "colab": {
          "base_uri": "https://localhost:8080/"
        },
        "id": "ypy0PsxDkq1b",
        "outputId": "4c97e37f-c1bd-4d3a-a279-10b9cb886efc"
      },
      "execution_count": 35,
      "outputs": [
        {
          "output_type": "execute_result",
          "data": {
            "text/plain": [
              "<tf.RaggedTensor [[1, 2, 3], [4], [5, 6], [7, 8, 3]]>"
            ]
          },
          "metadata": {},
          "execution_count": 35
        }
      ]
    },
    {
      "cell_type": "code",
      "source": [
        "tf.concat([r4,r5],axis=1)"
      ],
      "metadata": {
        "colab": {
          "base_uri": "https://localhost:8080/"
        },
        "id": "lt0ZlBkkk1R4",
        "outputId": "28191015-1eae-42d5-ba29-5f2ca4c6c5d5"
      },
      "execution_count": 36,
      "outputs": [
        {
          "output_type": "execute_result",
          "data": {
            "text/plain": [
              "<tf.RaggedTensor [[1, 2, 3, 5, 6], [4, 7, 8, 3]]>"
            ]
          },
          "metadata": {},
          "execution_count": 36
        }
      ]
    },
    {
      "cell_type": "code",
      "source": [
        "r6=tf.ragged.constant([[5,6],[7,8,9,10]])"
      ],
      "metadata": {
        "id": "mKq3BhVEmUxr"
      },
      "execution_count": 37,
      "outputs": []
    },
    {
      "cell_type": "code",
      "source": [
        "tf.concat([r4,r6],axis=0)"
      ],
      "metadata": {
        "colab": {
          "base_uri": "https://localhost:8080/"
        },
        "id": "re0EmoHKmapT",
        "outputId": "54b58374-f9ce-46a2-934a-ad2b4ff8d315"
      },
      "execution_count": 38,
      "outputs": [
        {
          "output_type": "execute_result",
          "data": {
            "text/plain": [
              "<tf.RaggedTensor [[1, 2, 3], [4], [5, 6], [7, 8, 9, 10]]>"
            ]
          },
          "metadata": {},
          "execution_count": 38
        }
      ]
    },
    {
      "cell_type": "code",
      "source": [
        "tf.concat([r4,r6],axis=1)"
      ],
      "metadata": {
        "colab": {
          "base_uri": "https://localhost:8080/"
        },
        "id": "o-EIy74JmeN-",
        "outputId": "5acd1b2c-c098-4f72-848c-283220210342"
      },
      "execution_count": 39,
      "outputs": [
        {
          "output_type": "execute_result",
          "data": {
            "text/plain": [
              "<tf.RaggedTensor [[1, 2, 3, 5, 6],\n",
              " [4, 7, 8, 9, 10]]>"
            ]
          },
          "metadata": {},
          "execution_count": 39
        }
      ]
    },
    {
      "cell_type": "code",
      "source": [
        "r7=tf.ragged.constant([[1,2],[3,4],[5]])\n",
        "r8=tf.ragged.constant([[7],[],[9,10,11]])"
      ],
      "metadata": {
        "id": "oGQiDKobmh4p"
      },
      "execution_count": 44,
      "outputs": []
    },
    {
      "cell_type": "code",
      "source": [
        "tf.concat([r7,r8],axis=0)"
      ],
      "metadata": {
        "colab": {
          "base_uri": "https://localhost:8080/"
        },
        "id": "c2soSLmpm82o",
        "outputId": "a7e93712-6f6a-4b3b-e24c-b9b3a6af44ff"
      },
      "execution_count": 45,
      "outputs": [
        {
          "output_type": "execute_result",
          "data": {
            "text/plain": [
              "<tf.RaggedTensor [[1, 2], [3, 4], [5], [7], [], [9, 10, 11]]>"
            ]
          },
          "metadata": {},
          "execution_count": 45
        }
      ]
    },
    {
      "cell_type": "code",
      "source": [
        "tf.concat([r7,r8],axis=1)"
      ],
      "metadata": {
        "colab": {
          "base_uri": "https://localhost:8080/"
        },
        "id": "FIszUWJ3nIa6",
        "outputId": "14fe97ed-527c-4b7b-ac03-091b030cd3d0"
      },
      "execution_count": 46,
      "outputs": [
        {
          "output_type": "execute_result",
          "data": {
            "text/plain": [
              "<tf.RaggedTensor [[1, 2, 7], [3, 4], [5, 9, 10, 11]]>"
            ]
          },
          "metadata": {},
          "execution_count": 46
        }
      ]
    },
    {
      "cell_type": "code",
      "source": [
        "r8=tf.ragged.constant([[7],[],[9,10,11],[12,13]])"
      ],
      "metadata": {
        "id": "5PVAfOSwnMii"
      },
      "execution_count": 51,
      "outputs": []
    },
    {
      "cell_type": "code",
      "source": [
        "r8"
      ],
      "metadata": {
        "colab": {
          "base_uri": "https://localhost:8080/"
        },
        "id": "SGu4OmUHnq3B",
        "outputId": "c438682e-437c-432a-f3b4-1b37d94e52a5"
      },
      "execution_count": 52,
      "outputs": [
        {
          "output_type": "execute_result",
          "data": {
            "text/plain": [
              "<tf.RaggedTensor [[7], [], [9, 10, 11], [12, 13]]>"
            ]
          },
          "metadata": {},
          "execution_count": 52
        }
      ]
    },
    {
      "cell_type": "code",
      "source": [
        "r8.to_tensor()"
      ],
      "metadata": {
        "colab": {
          "base_uri": "https://localhost:8080/"
        },
        "id": "t3eDyxfMnrnS",
        "outputId": "cf349015-1d9a-4a3a-9f26-ccd6b4e90e21"
      },
      "execution_count": 53,
      "outputs": [
        {
          "output_type": "execute_result",
          "data": {
            "text/plain": [
              "<tf.Tensor: shape=(4, 3), dtype=int32, numpy=\n",
              "array([[ 7,  0,  0],\n",
              "       [ 0,  0,  0],\n",
              "       [ 9, 10, 11],\n",
              "       [12, 13,  0]], dtype=int32)>"
            ]
          },
          "metadata": {},
          "execution_count": 53
        }
      ]
    },
    {
      "cell_type": "code",
      "source": [
        "r8.to_tensor(default_value=5)"
      ],
      "metadata": {
        "colab": {
          "base_uri": "https://localhost:8080/"
        },
        "id": "8Fdf0mROn6FG",
        "outputId": "fd297f33-fdce-49c6-a56a-f83a9261ed3e"
      },
      "execution_count": 54,
      "outputs": [
        {
          "output_type": "execute_result",
          "data": {
            "text/plain": [
              "<tf.Tensor: shape=(4, 3), dtype=int32, numpy=\n",
              "array([[ 7,  5,  5],\n",
              "       [ 5,  5,  5],\n",
              "       [ 9, 10, 11],\n",
              "       [12, 13,  5]], dtype=int32)>"
            ]
          },
          "metadata": {},
          "execution_count": 54
        }
      ]
    },
    {
      "cell_type": "code",
      "source": [],
      "metadata": {
        "id": "0Tq0asL2oKyw"
      },
      "execution_count": null,
      "outputs": []
    }
  ]
}